{
 "cells": [
  {
   "cell_type": "code",
   "execution_count": 49,
   "id": "b31eda61",
   "metadata": {},
   "outputs": [],
   "source": [
    "# REF: https://arxiv.org/pdf/0704.1317.pdf\n",
    "\n",
    "# import libraries\n",
    "import numpy as np\n",
    "import scipy\n",
    "from scipy import interpolate, sparse\n",
    "import utilsv2 as utils\n",
    "\n",
    "\n",
    "import matplotlib.pyplot as plt\n",
    "\n",
    "%matplotlib inline"
   ]
  },
  {
   "cell_type": "code",
   "execution_count": 50,
   "id": "2df19741",
   "metadata": {},
   "outputs": [],
   "source": [
    "matrix = np.loadtxt('./generator_matrix_d3.txt')"
   ]
  },
  {
   "cell_type": "code",
   "execution_count": 51,
   "id": "554f8196",
   "metadata": {},
   "outputs": [],
   "source": [
    "def create_sparse_matrix(mat,data):\n",
    "    \"\"\"\n",
    "    Creates the generator matrix\n",
    "    \"\"\"\n",
    "    rows = mat.shape[0]\n",
    "    cols = mat.shape[1]\n",
    "    row_id = mat.ravel()\n",
    "    col_id = np.tile(np.arange(cols),rows)\n",
    "    mat_data = np.repeat(data,cols)\n",
    "    mat_data = [each*np.random.choice([-1,1]) for each in mat_data]\n",
    "    \n",
    "    matrix = sparse.csr_matrix((mat_data, (row_id, col_id)), shape=(cols, cols)).toarray()\n",
    "    \n",
    "    return matrix"
   ]
  },
  {
   "cell_type": "code",
   "execution_count": 52,
   "id": "dec8daa8",
   "metadata": {},
   "outputs": [],
   "source": [
    "vals = [1/2.31 , 1/3.17, 1/5.11 , 1/7.33 , 1/11.71]"
   ]
  },
  {
   "cell_type": "code",
   "execution_count": 53,
   "id": "79aa2fd0",
   "metadata": {},
   "outputs": [
    {
     "data": {
      "text/plain": [
       "(3, 128)"
      ]
     },
     "execution_count": 53,
     "metadata": {},
     "output_type": "execute_result"
    }
   ],
   "source": [
    "matrix.shape"
   ]
  },
  {
   "cell_type": "code",
   "execution_count": 54,
   "id": "315949e7",
   "metadata": {},
   "outputs": [],
   "source": [
    "H = create_sparse_matrix(matrix,vals[:3])"
   ]
  },
  {
   "cell_type": "code",
   "execution_count": 55,
   "id": "a396ba88",
   "metadata": {},
   "outputs": [],
   "source": [
    "H = H/np.abs(np.linalg.det(H))**(1/128.) # normalize H\n",
    "G = np.linalg.inv(H)"
   ]
  },
  {
   "cell_type": "code",
   "execution_count": 70,
   "id": "808c0590",
   "metadata": {},
   "outputs": [],
   "source": [
    "np.random.seed(1234)\n",
    "b = np.random.randint(10,size = (128,1))\n",
    "x = np.dot(G,b)"
   ]
  },
  {
   "cell_type": "code",
   "execution_count": 71,
   "id": "c90190fa",
   "metadata": {},
   "outputs": [],
   "source": [
    "mu, sigma = 0, 0.05 # mean and standard deviation\n",
    "w = np.random.normal(mu, sigma, x.shape)\n",
    "y = x + w"
   ]
  },
  {
   "cell_type": "code",
   "execution_count": 72,
   "id": "55ead470",
   "metadata": {},
   "outputs": [],
   "source": [
    "x_input = np.linspace(-40.0,40,201)"
   ]
  },
  {
   "cell_type": "code",
   "execution_count": 73,
   "id": "fad22d89",
   "metadata": {},
   "outputs": [],
   "source": [
    "node = utils.CheckNode(H,x_input,x,sigma)"
   ]
  },
  {
   "cell_type": "code",
   "execution_count": 74,
   "id": "56537c19",
   "metadata": {},
   "outputs": [
    {
     "data": {
      "text/plain": [
       "(201,)"
      ]
     },
     "execution_count": 74,
     "metadata": {},
     "output_type": "execute_result"
    }
   ],
   "source": [
    "x_input.shape"
   ]
  },
  {
   "cell_type": "code",
   "execution_count": 75,
   "id": "96f9414f",
   "metadata": {},
   "outputs": [
    {
     "data": {
      "text/plain": [
       "(128, 128, 401)"
      ]
     },
     "execution_count": 75,
     "metadata": {},
     "output_type": "execute_result"
    }
   ],
   "source": [
    "node.cnode_message.shape"
   ]
  },
  {
   "cell_type": "code",
   "execution_count": 76,
   "id": "dc60b93d",
   "metadata": {},
   "outputs": [
    {
     "name": "stdout",
     "output_type": "stream",
     "text": [
      "CPU times: user 96.2 ms, sys: 58.8 ms, total: 155 ms\n",
      "Wall time: 154 ms\n"
     ]
    }
   ],
   "source": [
    "%%time\n",
    "result = utils.init_message(x_input, H,y,sigma)\n",
    "convolution = node.pj(0,28,vnode_message = result,x_in = x_input)\n",
    "stretch = node.stretch_pj(0,28,vnode_message = result)\n",
    "# extension = node.periodic_extension(0,28,vnode_message = result)\n",
    "# q = node.Q(vnode_message=result)"
   ]
  },
  {
   "cell_type": "code",
   "execution_count": 78,
   "id": "9b2d66ef",
   "metadata": {},
   "outputs": [
    {
     "data": {
      "image/png": "[encoded data removed]",
      "text/plain": [
       "<Figure size 432x288 with 1 Axes>"
      ]
     },
     "metadata": {
      "needs_background": "light"
     },
     "output_type": "display_data"
    }
   ],
   "source": [
    "plt.plot(range(len(stretch)),stretch,'r');\n",
    "plt.plot(range(len(stretch)),convolution,'b');\n",
    "# plt.plot(range(len(stretch)),extension,'g');\n",
    "# plt.plot(range(len(stretch)),q[0,28],'c');\n",
    "# plt.plot(range(len(stretch)),q[0,33],'r');\n",
    "# plt.plot(range(len(stretch)),q[0,112],'g');"
   ]
  },
  {
   "cell_type": "markdown",
   "id": "a3c6c72a",
   "metadata": {},
   "source": [
    "## Testting"
   ]
  },
  {
   "cell_type": "code",
   "execution_count": 79,
   "id": "28623933",
   "metadata": {},
   "outputs": [
    {
     "data": {
      "text/plain": [
       "[[28, 33, 112],\n",
       " [6, 40, 125],\n",
       " [19, 109, 120],\n",
       " [31, 76, 121],\n",
       " [98, 109, 114],\n",
       " [7, 12, 56],\n",
       " [42, 52, 69],\n",
       " [88, 99, 104],\n",
       " [9, 62, 81],\n",
       " [25, 47, 74],\n",
       " [94, 115, 120],\n",
       " [14, 21, 27],\n",
       " [77, 117, 122],\n",
       " [4, 49, 63],\n",
       " [43, 96, 106],\n",
       " [39, 84, 113],\n",
       " [17, 36, 86],\n",
       " [15, 51, 120],\n",
       " [57, 83, 125],\n",
       " [9, 24, 84],\n",
       " [18, 82, 119],\n",
       " [10, 19, 101],\n",
       " [48, 70, 111],\n",
       " [11, 67, 115],\n",
       " [26, 37, 100],\n",
       " [45, 69, 81],\n",
       " [54, 105, 118],\n",
       " [10, 78, 94],\n",
       " [30, 46, 105],\n",
       " [0, 72, 96],\n",
       " [12, 57, 95],\n",
       " [42, 105, 124],\n",
       " [99, 108, 126],\n",
       " [5, 24, 25],\n",
       " [28, 67, 91],\n",
       " [106, 111, 118],\n",
       " [43, 71, 89],\n",
       " [15, 63, 80],\n",
       " [33, 55, 64],\n",
       " [3, 22, 45],\n",
       " [16, 94, 97],\n",
       " [65, 101, 122],\n",
       " [52, 60, 95],\n",
       " [27, 30, 47],\n",
       " [16, 39, 64],\n",
       " [55, 118, 121],\n",
       " [9, 68, 87],\n",
       " [1, 33, 78],\n",
       " [38, 66, 116],\n",
       " [11, 25, 26],\n",
       " [20, 102, 115],\n",
       " [48, 55, 77],\n",
       " [22, 44, 97],\n",
       " [40, 61, 91],\n",
       " [53, 59, 85],\n",
       " [5, 29, 79],\n",
       " [45, 68, 93],\n",
       " [53, 73, 107],\n",
       " [54, 62, 92],\n",
       " [21, 23, 49],\n",
       " [35, 50, 75],\n",
       " [44, 58, 82],\n",
       " [4, 116, 122],\n",
       " [32, 34, 70],\n",
       " [73, 85, 125],\n",
       " [7, 16, 69],\n",
       " [18, 43, 66],\n",
       " [76, 86, 110],\n",
       " [7, 112, 113],\n",
       " [72, 108, 113],\n",
       " [8, 96, 107],\n",
       " [13, 20, 112],\n",
       " [13, 73, 93],\n",
       " [3, 75, 80],\n",
       " [17, 29, 67],\n",
       " [38, 90, 123],\n",
       " [40, 72, 114],\n",
       " [60, 84, 100],\n",
       " [5, 6, 34],\n",
       " [56, 83, 119],\n",
       " [65, 110, 127],\n",
       " [44, 119, 123],\n",
       " [17, 54, 108],\n",
       " [24, 50, 65],\n",
       " [27, 83, 117],\n",
       " [37, 46, 58],\n",
       " [35, 70, 123],\n",
       " [31, 61, 71],\n",
       " [12, 74, 124],\n",
       " [35, 79, 92],\n",
       " [28, 101, 126],\n",
       " [41, 42, 53],\n",
       " [23, 58, 104],\n",
       " [19, 90, 97],\n",
       " [2, 48, 126],\n",
       " [3, 79, 88],\n",
       " [109, 117, 127],\n",
       " [18, 51, 57],\n",
       " [75, 95, 111],\n",
       " [8, 32, 62],\n",
       " [31, 50, 80],\n",
       " [36, 59, 76],\n",
       " [41, 63, 68],\n",
       " [11, 107, 110],\n",
       " [14, 37, 47],\n",
       " [29, 78, 121],\n",
       " [1, 8, 114],\n",
       " [1, 26, 59],\n",
       " [52, 89, 102],\n",
       " [13, 15, 21],\n",
       " [2, 6, 89],\n",
       " [4, 23, 98],\n",
       " [0, 41, 103],\n",
       " [2, 93, 99],\n",
       " [30, 77, 87],\n",
       " [22, 46, 116],\n",
       " [49, 74, 100],\n",
       " [86, 88, 124],\n",
       " [64, 82, 103],\n",
       " [34, 91, 127],\n",
       " [10, 20, 90],\n",
       " [0, 60, 85],\n",
       " [56, 71, 103],\n",
       " [66, 81, 106],\n",
       " [14, 38, 98],\n",
       " [36, 39, 92],\n",
       " [32, 51, 87],\n",
       " [61, 102, 104]]"
      ]
     },
     "execution_count": 79,
     "metadata": {},
     "output_type": "execute_result"
    }
   ],
   "source": [
    "node.vnode_id# for each chk node"
   ]
  },
  {
   "cell_type": "code",
   "execution_count": 80,
   "id": "be517bde",
   "metadata": {},
   "outputs": [],
   "source": [
    "from IPython import display\n",
    "\n",
    "def visualize(x,y,z):\n",
    "    \n",
    "    plt.plot(x,y,'g',label='before iteration')\n",
    "    plt.plot(x,z,'r',label = 'after iteration')    \n",
    "    plt.legend()\n",
    "    display.clear_output(wait=True)\n",
    "    #display.display(plt.gcf())\n",
    "    plt.show();"
   ]
  },
  {
   "cell_type": "code",
   "execution_count": null,
   "id": "921afe17",
   "metadata": {},
   "outputs": [
    {
     "data": {
      "image/png": "[encoded data removed]",
      "text/plain": [
       "<Figure size 432x288 with 1 Axes>"
      ]
     },
     "metadata": {
      "needs_background": "light"
     },
     "output_type": "display_data"
    },
    {
     "name": "stdout",
     "output_type": "stream",
     "text": [
      "1082.086540504832 384.0\n",
      "iter0: 6.21936310223195\n"
     ]
    }
   ],
   "source": [
    "%%time\n",
    "cnode = utils.CheckNode(H,x_input,x,sigma)\n",
    "vnode = utils.VariableNode(H,x_input,x,sigma)\n",
    "res = utils.init_message(x_input, H,x,sigma)\n",
    "for i in range(2):\n",
    "    q = cnode.Q(res)\n",
    "    f = vnode.f(q)\n",
    "    visualize(x_input,res[0][28],f[0][28])\n",
    "    print (res.sum() , f.sum())\n",
    "    print (f'iter{i}:',res[0][28].max()-f[0][28].max())\n",
    "    res = f\n",
    "plt.clf(); "
   ]
  },
  {
   "cell_type": "code",
   "execution_count": null,
   "id": "b3ada340",
   "metadata": {},
   "outputs": [],
   "source": [
    "f_final = vnode.final(q)\n",
    "x_b = np.argmax(f_final,axis = 1)\n",
    "b_cal = np.rint(np.dot(H,x_input[x_b]))\n",
    "        \n",
    "print (b_cal.astype(int),b.ravel())\n"
   ]
  },
  {
   "cell_type": "code",
   "execution_count": null,
   "id": "2a2ec9ec",
   "metadata": {},
   "outputs": [],
   "source": [
    "np.array_equal(b_cal.astype(int), b.ravel()) "
   ]
  },
  {
   "cell_type": "code",
   "execution_count": 46,
   "id": "01bcc577",
   "metadata": {},
   "outputs": [
    {
     "data": {
      "text/plain": [
       "array([[3],\n",
       "       [6],\n",
       "       [5],\n",
       "       [4],\n",
       "       [8],\n",
       "       [9],\n",
       "       [1],\n",
       "       [7],\n",
       "       [9],\n",
       "       [6]])"
      ]
     },
     "execution_count": 46,
     "metadata": {},
     "output_type": "execute_result"
    }
   ],
   "source": []
  },
  {
   "cell_type": "code",
   "execution_count": null,
   "id": "6142dcf3",
   "metadata": {},
   "outputs": [],
   "source": []
  }
 ],
 "metadata": {
  "kernelspec": {
   "display_name": "Python 3",
   "language": "python",
   "name": "python3"
  },
  "language_info": {
   "codemirror_mode": {
    "name": "ipython",
    "version": 3
   },
   "file_extension": ".py",
   "mimetype": "text/x-python",
   "name": "python",
   "nbconvert_exporter": "python",
   "pygments_lexer": "ipython3",
   "version": "3.7.10"
  }
 },
 "nbformat": 4,
 "nbformat_minor": 5
}
